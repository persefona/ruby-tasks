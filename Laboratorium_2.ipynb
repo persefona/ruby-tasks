@@ -2,7 +2,7 @@
 "metadata": {
  "language": "ruby",
  "name": "",
  "signature": "sha256:075280053c847b14deef4b0931e3ca46ac6db30828cc28be07c9d6abb982f4d6"
  "signature": "sha256:25bc33028bae1efb249d291de6fc9276f36ca86028686824aa515ffe65fcc9f2"
 },
 "nbformat": 3,
 "nbformat_minor": 0,
@@ -378,11 +378,22 @@
    {
     "cell_type": "code",
     "collapsed": false,
     "input": [],
     "input": [
      "\"taki pi\u0119kny dzisiaj dzie\u0144!\".empty?"
     ],
     "language": "python",
     "metadata": {},
     "outputs": [],
     "prompt_number": 1
     "outputs": [
      {
       "metadata": {},
       "output_type": "pyout",
       "prompt_number": 4,
       "text": [
        "false"
       ]
      }
     ],
     "prompt_number": 4
    },
    {
     "cell_type": "markdown",
@@ -402,11 +413,22 @@
    {
     "cell_type": "code",
     "collapsed": false,
     "input": [],
     "input": [
      "\"\u0141\u00f3d\u017a\".length"
     ],
     "language": "python",
     "metadata": {},
     "outputs": [],
     "prompt_number": 2
     "outputs": [
      {
       "metadata": {},
       "output_type": "pyout",
       "prompt_number": 7,
       "text": [
        "4"
       ]
      }
     ],
     "prompt_number": 7
    },
    {
     "cell_type": "markdown",
@@ -425,11 +447,22 @@
    {
     "cell_type": "code",
     "collapsed": false,
     "input": [],
     "input": [
      "\"\u0141\u00f3d\u017a\".encoding"
     ],
     "language": "python",
     "metadata": {},
     "outputs": [],
     "prompt_number": 4
     "outputs": [
      {
       "metadata": {},
       "output_type": "pyout",
       "prompt_number": 11,
       "text": [
        "#<Encoding:UTF-8>"
       ]
      }
     ],
     "prompt_number": 11
    },
    {
     "cell_type": "markdown",
@@ -447,10 +480,22 @@
    {
     "cell_type": "code",
     "collapsed": false,
     "input": [],
     "input": [
      "\"paczka\".rindex(\"a\")"
     ],
     "language": "python",
     "metadata": {},
     "outputs": []
     "outputs": [
      {
       "metadata": {},
       "output_type": "pyout",
       "prompt_number": 28,
       "text": [
        "5"
       ]
      }
     ],
     "prompt_number": 28
    },
    {
     "cell_type": "markdown",
@@ -467,10 +512,22 @@
    {
     "cell_type": "code",
     "collapsed": false,
     "input": [],
     "input": [
      "\"\u0141\u00f3d\u017a\"[0]"
     ],
     "language": "python",
     "metadata": {},
     "outputs": []
     "outputs": [
      {
       "metadata": {},
       "output_type": "pyout",
       "prompt_number": 17,
       "text": [
        "\"\u0141\""
       ]
      }
     ],
     "prompt_number": 17
    },
    {
     "cell_type": "markdown",
@@ -485,10 +542,24 @@
    {
     "cell_type": "code",
     "collapsed": false,
     "input": [],
     "input": [
      "napis = \"\u0141\u00d3d\u017a\"\n",
      "napis [/\\p{Lu}+/]\n",
      "napis[0].class"
     ],
     "language": "python",
     "metadata": {},
     "outputs": []
     "outputs": [
      {
       "metadata": {},
       "output_type": "pyout",
       "prompt_number": 25,
       "text": [
        "String"
       ]
      }
     ],
     "prompt_number": 25
    },
    {
     "cell_type": "markdown",
@@ -504,10 +575,22 @@
    {
     "cell_type": "code",
     "collapsed": false,
     "input": [],
     "input": [
      "\"\u0141\u00f3d\u017a\"[-2..-1]"
     ],
     "language": "python",
     "metadata": {},
     "outputs": []
     "outputs": [
      {
       "metadata": {},
       "output_type": "pyout",
       "prompt_number": 23,
       "text": [
        "\"d\u017a\""
       ]
      }
     ],
     "prompt_number": 23
    },
    {
     "cell_type": "heading",
@@ -529,12 +612,23 @@
     "collapsed": false,
     "input": [
      "url = \"http://pl.wikipedia.org/wiki/Polska\"\n",
      "# tutaj wstaw sw\u00f3j kod"
      "# tutaj wstaw sw\u00f3j kod\n",
      "url[url.rindex(\"/\")+1..url.size - 1]\n",
      "url[url.rindex(\"/\")+1..- 1]"
     ],
     "language": "python",
     "metadata": {},
     "outputs": [],
     "prompt_number": 4
     "outputs": [
      {
       "metadata": {},
       "output_type": "pyout",
       "prompt_number": 34,
       "text": [
        "\"Polska\""
       ]
      }
     ],
     "prompt_number": 34
    },
    {
     "cell_type": "heading",
@@ -558,10 +652,22 @@
    {
     "cell_type": "code",
     "collapsed": false,
     "input": [],
     "input": [
      "\"Warszawa\".upcase"
     ],
     "language": "python",
     "metadata": {},
     "outputs": []
     "outputs": [
      {
       "metadata": {},
       "output_type": "pyout",
       "prompt_number": 35,
       "text": [
        "\"WARSZAWA\""
       ]
      }
     ],
     "prompt_number": 35
    },
    {
     "cell_type": "markdown",
@@ -577,11 +683,22 @@
    {
     "cell_type": "code",
     "collapsed": false,
     "input": [],
     "input": [
      "\"\u0141\u00f3d\u017a\".upcase"
     ],
     "language": "python",
     "metadata": {},
     "outputs": [],
     "prompt_number": 6
     "outputs": [
      {
       "metadata": {},
       "output_type": "pyout",
       "prompt_number": 2,
       "text": [
        "\"\u0141\u00f3D\u017a\""
       ]
      }
     ],
     "prompt_number": 2
    },
    {
     "cell_type": "markdown",
@@ -605,10 +722,23 @@
    {
     "cell_type": "code",
     "collapsed": false,
     "input": [],
     "input": [
      "require 'string_case_pl'\n",
      "\"\u0141\u00f3d\u017a\".upcase"
     ],
     "language": "python",
     "metadata": {},
     "outputs": []
     "outputs": [
      {
       "metadata": {},
       "output_type": "pyout",
       "prompt_number": 3,
       "text": [
        "\"\u0141\u00d3D\u0179\""
       ]
      }
     ],
     "prompt_number": 3
    },
    {
     "cell_type": "markdown",
@@ -624,11 +754,22 @@
    {
     "cell_type": "code",
     "collapsed": false,
     "input": [],
     "input": [
      "\"zbyt     wieleeeeeeeee     spacjiiiiiiiiiiiiiiiiiii     \".squeeze(\"i e\")"
     ],
     "language": "python",
     "metadata": {},
     "outputs": [],
     "prompt_number": 2
     "outputs": [
      {
       "metadata": {},
       "output_type": "pyout",
       "prompt_number": 7,
       "text": [
        "\"zbyt wiele spacji \""
       ]
      }
     ],
     "prompt_number": 7
    },
    {
     "cell_type": "markdown",
@@ -643,10 +784,22 @@
    {
     "cell_type": "code",
     "collapsed": false,
     "input": [],
     "input": [
      "\"      niepotrzebne spacje          \".rstrip"
     ],
     "language": "python",
     "metadata": {},
     "outputs": []
     "outputs": [
      {
       "metadata": {},
       "output_type": "pyout",
       "prompt_number": 10,
       "text": [
        "\"      niepotrzebne spacje\""
       ]
      }
     ],
     "prompt_number": 10
    },
    {
     "cell_type": "markdown",
@@ -661,11 +814,22 @@
    {
     "cell_type": "code",
     "collapsed": false,
     "input": [],
     "input": [
      "\"hello \\n\".chomp"
     ],
     "language": "python",
     "metadata": {},
     "outputs": [],
     "prompt_number": 6
     "outputs": [
      {
       "metadata": {},
       "output_type": "pyout",
       "prompt_number": 13,
       "text": [
        "\"hello \""
       ]
      }
     ],
     "prompt_number": 13
    },
    {
     "cell_type": "markdown",
@@ -682,11 +846,22 @@
    {
     "cell_type": "code",
     "collapsed": false,
     "input": [],
     "input": [
      "\"Ala ma kota\".sub(/./){|match| (\"a\"..\"z\").to_a[rand(25)]}"
     ],
     "language": "python",
     "metadata": {},
     "outputs": [],
     "prompt_number": 4
     "outputs": [
      {
       "metadata": {},
       "output_type": "pyout",
       "prompt_number": 26,
       "text": [
        "\"bla ma kota\""
       ]
      }
     ],
     "prompt_number": 26
    },
    {
     "cell_type": "markdown",
@@ -701,10 +876,22 @@
    {
     "cell_type": "code",
     "collapsed": false,
     "input": [],
     "input": [
      "\"Ala ma kota\".gsub(/a/,\"o\")"
     ],
     "language": "python",
     "metadata": {},
     "outputs": []
     "outputs": [
      {
       "metadata": {},
       "output_type": "pyout",
       "prompt_number": 27,
       "text": [
        "\"Alo mo koto\""
       ]
      }
     ],
     "prompt_number": 27
    },
    {
     "cell_type": "heading",
@@ -728,12 +915,37 @@
      "napis = \"W domu by\u0142o 10 kot\u00f3w i 5 ps\u00f3w\"\n",
      "# Tutaj wstaw kod zamieniaj\u0105cy cyfry na znak x.\n",
      "# Rezultatem jego wywo\u0142ania powinien by\u0107 napis \"W domu by\u0142o xx kot\u00f3w oraz x ps\u00f3w\"\n",
      "# Mo\u017cesz r\u00f3wnie\u017c napisa\u0107 wyra\u017cenie, kt\u00f3rego rezultatem jest napis \"W domu by\u0142o x kot\u00f3w oraz x ps\u00f3w\""
      "# Mo\u017cesz r\u00f3wnie\u017c napisa\u0107 wyra\u017cenie, kt\u00f3rego rezultatem jest napis \"W domu by\u0142o x kot\u00f3w oraz x ps\u00f3w\"\n",
      "puts napis.gsub(/\\d/, \"x\")\n",
      "puts napis.gsub(/\\d/, \"x\").gsub(\"xx\", \"x\")\n",
      "puts napis.gsub(/\\d+/, \"x\")"
     ],
     "language": "python",
     "metadata": {},
     "outputs": [],
     "prompt_number": 2
     "outputs": [
      {
       "output_type": "stream",
       "stream": "stdout",
       "text": [
        "W domu by\u0142o xx kot\u00f3w i x ps\u00f3w\n"
       ]
      },
      {
       "output_type": "stream",
       "stream": "stdout",
       "text": [
        "W domu by\u0142o x kot\u00f3w i x ps\u00f3w\n"
       ]
      },
      {
       "output_type": "stream",
       "stream": "stdout",
       "text": [
        "W domu by\u0142o x kot\u00f3w i x ps\u00f3w\n"
       ]
      }
     ],
     "prompt_number": 32
    },
    {
     "cell_type": "heading",
@@ -765,10 +977,21 @@
    {
     "cell_type": "code",
     "collapsed": false,
     "input": [],
     "input": [
      "puts \"Warto\u015b\u0107 liczby to \" + 10.to_s"
     ],
     "language": "python",
     "metadata": {},
     "outputs": []
     "outputs": [
      {
       "output_type": "stream",
       "stream": "stdout",
       "text": [
        "Warto\u015b\u0107 liczby to 10\n"
       ]
      }
     ],
     "prompt_number": 34
    },
    {
     "cell_type": "markdown",
@@ -786,11 +1009,37 @@
    {
     "cell_type": "code",
     "collapsed": false,
     "input": [],
     "input": [
      "puts 10.to_s\n",
      "puts 10.to_s(2)\n",
      "puts 10.to_s(16)"
     ],
     "language": "python",
     "metadata": {},
     "outputs": [],
     "prompt_number": 4
     "outputs": [
      {
       "output_type": "stream",
       "stream": "stdout",
       "text": [
        "10\n"
       ]
      },
      {
       "output_type": "stream",
       "stream": "stdout",
       "text": [
        "1010\n"
       ]
      },
      {
       "output_type": "stream",
       "stream": "stdout",
       "text": [
        "a\n"
       ]
      }
     ],
     "prompt_number": 36
    },
    {
     "cell_type": "markdown",
@@ -807,10 +1056,37 @@
    {
     "cell_type": "code",
     "collapsed": false,
     "input": [],
     "input": [
      "puts \"10\".to_i\n",
      "puts \"10\" + \"20\"\n",
      "puts \"10\".to_i + \"20\".to_i"
     ],
     "language": "python",
     "metadata": {},
     "outputs": []
     "outputs": [
      {
       "output_type": "stream",
       "stream": "stdout",
       "text": [
        "10\n"
       ]
      },
      {
       "output_type": "stream",
       "stream": "stdout",
       "text": [
        "1020\n"
       ]
      },
      {
       "output_type": "stream",
       "stream": "stdout",
       "text": [
        "30\n"
       ]
      }
     ],
     "prompt_number": 38
    },
    {
     "cell_type": "markdown",
@@ -825,10 +1101,22 @@
    {
     "cell_type": "code",
     "collapsed": false,
     "input": [],
     "input": [
      "\"100\".to_i(2)"
     ],
     "language": "python",
     "metadata": {},
     "outputs": []
     "outputs": [
      {
       "metadata": {},
       "output_type": "pyout",
       "prompt_number": 39,
       "text": [
        "4"
       ]
      }
     ],
     "prompt_number": 39
    },
    {
     "cell_type": "markdown",
@@ -844,10 +1132,29 @@
    {
     "cell_type": "code",
     "collapsed": false,
     "input": [],
     "input": [
      "puts \"1.5\".to_i\n",
      "puts \"1.5\".to_f"
     ],
     "language": "python",
     "metadata": {},
     "outputs": []
     "outputs": [
      {
       "output_type": "stream",
       "stream": "stdout",
       "text": [
        "1\n"
       ]
      },
      {
       "output_type": "stream",
       "stream": "stdout",
       "text": [
        "1.5\n"
       ]
      }
     ],
     "prompt_number": 40
    },
    {
     "cell_type": "heading",
@@ -867,11 +1174,22 @@
    {
     "cell_type": "code",
     "collapsed": false,
     "input": [],
     "input": [
      "\"AFC\".to_i(16).to_s(8)"
     ],
     "language": "python",
     "metadata": {},
     "outputs": [],
     "prompt_number": 4
     "outputs": [
      {
       "metadata": {},
       "output_type": "pyout",
       "prompt_number": 47,
       "text": [
        "\"5374\""
       ]
      }
     ],
     "prompt_number": 47
    },
    {
     "cell_type": "markdown",
@@ -889,11 +1207,27 @@
    {
     "cell_type": "code",
     "collapsed": false,
     "input": [],
     "input": [
      "puts \"Ala ma kota, a kot jest persem.\".split.join(\"\\n\")"
     ],
     "language": "python",
     "metadata": {},
     "outputs": [],
     "prompt_number": 9
     "outputs": [
      {
       "output_type": "stream",
       "stream": "stdout",
       "text": [
        "Ala\n",
        "ma\n",
        "kota,\n",
        "a\n",
        "kot\n",
        "jest\n",
        "persem.\n"
       ]
      }
     ],
     "prompt_number": 58
    },
    {
     "cell_type": "markdown",
@@ -908,11 +1242,22 @@
    {
     "cell_type": "code",
     "collapsed": false,
     "input": [],
     "input": [
      "\"Ala ma kota, a kot jest persem.\".split(/\\s[,.?!]?|[,.?!]$/)"
     ],
     "language": "python",
     "metadata": {},
     "outputs": [],
     "prompt_number": 12
     "outputs": [
      {
       "metadata": {},
       "output_type": "pyout",
       "prompt_number": 55,
       "text": [
        "[\"Ala\", \"ma\", \"kota,\", \"a\", \"kot\", \"jest\", \"persem\"]"
       ]
      }
     ],
     "prompt_number": 55
    },
    {
     "cell_type": "heading",
@@ -945,11 +1290,40 @@
    {
     "cell_type": "code",
     "collapsed": false,
     "input": [],
     "input": [
      "napis = \"Janek\"\n",
      "nowy_napis = napis.downcase!\n",
      "puts nowy_napis\n",
      "puts napis\n",
      "napis.equal?(nowy_napis)"
     ],
     "language": "python",
     "metadata": {},
     "outputs": [],
     "prompt_number": 2
     "outputs": [
      {
       "output_type": "stream",
       "stream": "stdout",
       "text": [
        "janek\n"
       ]
      },
      {
       "output_type": "stream",
       "stream": "stdout",
       "text": [
        "janek\n"
       ]
      },
      {
       "metadata": {},
       "output_type": "pyout",
       "prompt_number": 63,
       "text": [
        "true"
       ]
      }
     ],
     "prompt_number": 63
    },
    {
     "cell_type": "markdown",
@@ -967,6 +1341,62 @@
     ]
    },
    {
     "cell_type": "code",
     "collapsed": false,
     "input": [
      "puts \"  POWITANIE    ZE   SPACJJAMI  \".squeeze.strip.downcase\n",
      "puts \"powitanie ze spacjami\".squeeze.strip.downcase\n",
      "puts \"  POWITANIE    ZE   SPACJJAMI  \".squeeze!.strip!.downcase!\n",
      "puts \"powitanie ze spacjami\".squeeze!.strip!.downcase! #nie robi\u0107 tak :("
     ],
     "language": "python",
     "metadata": {},
     "outputs": [
      {
       "output_type": "stream",
       "stream": "stdout",
       "text": [
        "powitanie ze spacjami\n"
       ]
      },
      {
       "output_type": "stream",
       "stream": "stdout",
       "text": [
        "powitanie ze spacjami\n"
       ]
      },
      {
       "output_type": "stream",
       "stream": "stdout",
       "text": [
        "powitanie ze spacjami\n"
       ]
      },
      {
       "ename": "NoMethodError",
       "evalue": "undefined method `strip!' for nil:NilClass",
       "output_type": "pyerr",
       "traceback": [
        "\u001b[31mNoMethodError\u001b[0m: undefined method `strip!' for nil:NilClass",
        "\u001b[37m<main>:3:in `<main>'\u001b[0m",
        "\u001b[37m/usr/local/rvm/gems/ruby-2.0.0-p0/gems/iruby-0.1.13/lib/iruby/backend.rb:8:in `eval'\u001b[0m",
        "\u001b[37m/usr/local/rvm/gems/ruby-2.0.0-p0/gems/iruby-0.1.13/lib/iruby/backend.rb:8:in `eval'\u001b[0m",
        "\u001b[37m/usr/local/rvm/gems/ruby-2.0.0-p0/gems/iruby-0.1.13/lib/iruby/kernel.rb:110:in `execute_request'\u001b[0m",
        "\u001b[37m/usr/local/rvm/gems/ruby-2.0.0-p0/gems/iruby-0.1.13/lib/iruby/kernel.rb:62:in `run'\u001b[0m",
        "\u001b[37m/usr/local/rvm/gems/ruby-2.0.0-p0/gems/iruby-0.1.13/lib/iruby/command.rb:30:in `run_kernel'\u001b[0m",
        "\u001b[37m/usr/local/rvm/gems/ruby-2.0.0-p0/gems/iruby-0.1.13/lib/iruby/command.rb:16:in `run'\u001b[0m",
        "\u001b[37m/usr/local/rvm/gems/ruby-2.0.0-p0/gems/iruby-0.1.13/bin/iruby:6:in `<top (required)>'\u001b[0m",
        "\u001b[37m/usr/local/rvm/gems/ruby-2.0.0-p0/bin/iruby:23:in `load'\u001b[0m",
        "\u001b[37m/usr/local/rvm/gems/ruby-2.0.0-p0/bin/iruby:23:in `<main>'\u001b[0m",
        "\u001b[37m/usr/local/rvm/gems/ruby-2.0.0-p0/bin/ruby_noexec_wrapper:14:in `eval'\u001b[0m",
        "\u001b[37m/usr/local/rvm/gems/ruby-2.0.0-p0/bin/ruby_noexec_wrapper:14:in `<main>'\u001b[0m"
       ]
      }
     ],
     "prompt_number": 65
    },
    {
     "cell_type": "heading",
     "level": 3,
     "metadata": {},
